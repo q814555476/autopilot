{
 "cells": [
  {
   "cell_type": "code",
   "execution_count": null,
   "metadata": {},
   "outputs": [],
   "source": [
    "import numpy as np, matplotlib.pyplot as plt"
   ]
  },
  {
   "cell_type": "markdown",
   "metadata": {},
   "source": [
    "# Estimation of the initial position and velocity for trajectory generation\n",
    "\n",
    "When generating a new trajectory, we need to use the real world position of the UAV \n",
    "when it will start to execute the trajectory. We need the position and the velocity of the UAV in our algorithm.\n",
    "The expected final state of the UAV is the final state given by the previous trajectory.\n",
    "However, because of noise, this will not be true.\n",
    "Instead, we need to consider the state given by the UAV sensors (IMU) and estimate the future state considering the current trajectory."
   ]
  },
  {
   "cell_type": "markdown",
   "metadata": {},
   "source": [
    "## Idea 1: Linear acceleration model\n",
    "\n",
    "Let $t_0$ the beginning of the trajectory,\n",
    "$t_1$ the beginning of the trajectory generation and \n",
    "$t_f = t_0 + T_f$ the time the UAV reach the end of the trajectory.\n",
    "\n",
    "Usually, we have $t_0 = 0$ and $t_f = T_f$.\n",
    "Here, we will use the convention $t_1 = 0$ and $t_f = T_f - currentTime$.\n",
    "\n",
    "A path constraint which is always true is that we constrain the final acceleration to be null.\n",
    "Then, we can maybe approximate the instant acceleration as an affine function with \n",
    "$\\vec{a}(t=0)=\\vec{a}(0)$ and $\\vec{a}(t=t_f)=\\vec{0}$.\n",
    "Because $t_1=0$, we know $\\vec{a}(0)$, $\\vec{v}(0)$ and $\\vec{p}(0)$ as, respectively,\n",
    "the current acceleration, velocity and position at the time of the trajectory generation.\n",
    "\n",
    "We model the acceleration as the affine $\\vec{a}(t) = \\vec{a}(0) - \\vec{a}(0) \\frac{t}{t_f}$.\n",
    "\n",
    "By integrating, we deduce the instant velocity and position:\n",
    "\n",
    "$$\\vec{v}(t) = \\vec{v}(0) + \\vec{a}(0) t - \\vec{a}(0)  \\frac{t^2}{2 t_f}$$\n",
    "\n",
    "$$\\vec{p}(t) = \\vec{p}(0) + \\vec{v}(0) t + \\vec{a}(t) \\frac{t^2}{2} - \\vec{a}(0) \\frac{t^3}{6 t_f}$$\n",
    "\n",
    "Finally, we can find the final estimated velocity,\n",
    "\n",
    "$$\\vec{v}(t_f) = \\vec{v}(0) + \\vec{a}(0) {t_f}{2}$$\n",
    "\n",
    "and position,\n",
    "\n",
    "$$\\vec{p}(t_f) = \\vec{p}(0) + \\vec{v}(0) t_f + \\vec{a}(0) \\frac{t_f^2}{3}$$\n",
    "\n",
    "\n",
    "### Hypothesis accuracy\n",
    "\n",
    "We stated the hypothesis that the acceleration could be approximated in all axis by a linear function, between $[t_1, t_f]$,\n",
    "and equal to $0$ at $t_f$.\n",
    "\n",
    "To verify it, we plot the instant acceleration during a simple ground truth trajectory.\n",
    "We use the MAVROS, PX4, Gazebo simulation environment, with the Iris UAV.\n",
    "The world is `test_zone`, the start point `[0, 0, 1]` and the end point `[5, -7.5, 1]`.\n",
    "The path is mainly a straight line.\n",
    "We also set $T_f = 1.5$.\n",
    "Each new primitive is generated online, 0.7 seconds before reaching the end of the primitive, so $t_1 \\approx t_f - 0.7$.\n",
    "The acceleration data is sampled from the MAVROS topic `/mavros/imu/data`, at the same rate ($\\approx 50 Hz$ ?), \n",
    "by the python script `plot_acc1.py` in this folder.\n",
    "The data is stored in the `acc_data1.npy` file, as a numpy object."
   ]
  },
  {
   "cell_type": "code",
   "execution_count": null,
   "metadata": {},
   "outputs": [],
   "source": [
    "accs = np.load('acc_data1.npy')\n",
    "imu_rate = 50 # Is that true ?\n",
    "t = np.linspace(0, accs.shape[0] / imu_rate, accs.shape[0])\n",
    "\n",
    "# Remove the gravity offset\n",
    "accs[:, 2] -= 9.807\n",
    "\n",
    "norms = np.linalg.norm(accs, axis=1)\n",
    "plt.plot(t, accs[:, 0], label='$a_x$')\n",
    "plt.plot(t, accs[:, 1], label='$a_y$')\n",
    "plt.plot(t, accs[:, 2], label='$a_z$')\n",
    "plt.plot(t, norms, label='$||a||$')\n",
    "plt.legend()\n",
    "plt.title('Instant acceleration over time for a straight line diagonal trajectory')\n",
    "plt.show()"
   ]
  },
  {
   "cell_type": "code",
   "execution_count": null,
   "metadata": {},
   "outputs": [],
   "source": []
  },
  {
   "cell_type": "code",
   "execution_count": null,
   "metadata": {},
   "outputs": [],
   "source": []
  }
 ],
 "metadata": {
  "kernelspec": {
   "display_name": "Python 3",
   "language": "python",
   "name": "python3"
  },
  "language_info": {
   "name": ""
  }
 },
 "nbformat": 4,
 "nbformat_minor": 4
}
